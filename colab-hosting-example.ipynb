{
 "metadata": {
  "language_info": {
   "codemirror_mode": {
    "name": "ipython",
    "version": 3
   },
   "file_extension": ".py",
   "mimetype": "text/x-python",
   "name": "python",
   "nbconvert_exporter": "python",
   "pygments_lexer": "ipython3",
   "version": "3.9.1-final"
  },
  "orig_nbformat": 2,
  "kernelspec": {
   "name": "python3",
   "display_name": "Python 3",
   "language": "python"
  }
 },
 "nbformat": 4,
 "nbformat_minor": 2,
 "cells": [
  {
   "source": [
    "# Colab Hosting Example\n",
    "Sample Jupyter notebook demonstrating how to host a ML model for demos. Tested on Colab but reusable anywhere Jupyter notebooks can be ran."
   ],
   "cell_type": "markdown",
   "metadata": {}
  },
  {
   "source": [
    "## Install dependencies"
   ],
   "cell_type": "markdown",
   "metadata": {}
  },
  {
   "cell_type": "code",
   "execution_count": 1,
   "metadata": {},
   "outputs": [
    {
     "output_type": "stream",
     "name": "stdout",
     "text": [
      "Requirement already satisfied: numpy in c:\\python39\\lib\\site-packages (1.19.5)\nRequirement already satisfied: scikit-learn in c:\\python39\\lib\\site-packages (0.24.1)\nRequirement already satisfied: flask in c:\\python39\\lib\\site-packages (1.1.2)\nRequirement already satisfied: flask-ngrok in c:\\python39\\lib\\site-packages (0.0.25)\nRequirement already satisfied: click>=5.1 in c:\\python39\\lib\\site-packages (from flask) (7.1.2)\nRequirement already satisfied: itsdangerous>=0.24 in c:\\python39\\lib\\site-packages (from flask) (1.1.0)\nRequirement already satisfied: Jinja2>=2.10.1 in c:\\python39\\lib\\site-packages (from flask) (2.11.2)\nRequirement already satisfied: Werkzeug>=0.15 in c:\\python39\\lib\\site-packages (from flask) (1.0.1)\nRequirement already satisfied: MarkupSafe>=0.23 in c:\\python39\\lib\\site-packages (from Jinja2>=2.10.1->flask) (1.1.1)\nRequirement already satisfied: requests in c:\\python39\\lib\\site-packages (from flask-ngrok) (2.25.1)\nRequirement already satisfied: threadpoolctl>=2.0.0 in c:\\python39\\lib\\site-packages (from scikit-learn) (2.1.0)\nRequirement already satisfied: joblib>=0.11 in c:\\python39\\lib\\site-packages (from scikit-learn) (1.0.0)\nRequirement already satisfied: scipy>=0.19.1 in c:\\python39\\lib\\site-packages (from scikit-learn) (1.6.0)\nRequirement already satisfied: chardet<5,>=3.0.2 in c:\\python39\\lib\\site-packages (from requests->flask-ngrok) (4.0.0)\nRequirement already satisfied: idna<3,>=2.5 in c:\\python39\\lib\\site-packages (from requests->flask-ngrok) (2.10)\nRequirement already satisfied: urllib3<1.27,>=1.21.1 in c:\\python39\\lib\\site-packages (from requests->flask-ngrok) (1.26.2)\nRequirement already satisfied: certifi>=2017.4.17 in c:\\python39\\lib\\site-packages (from requests->flask-ngrok) (2020.12.5)\n"
     ]
    }
   ],
   "source": [
    "!pip install numpy scikit-learn flask flask-ngrok"
   ]
  },
  {
   "source": [
    "## Load and split a dataset"
   ],
   "cell_type": "markdown",
   "metadata": {}
  },
  {
   "cell_type": "code",
   "execution_count": 2,
   "metadata": {},
   "outputs": [],
   "source": [
    "from sklearn.datasets import load_boston\n",
    "from sklearn.model_selection import train_test_split\n",
    "\n",
    "X_train, X_test, y_train, y_test = train_test_split(*load_boston(return_X_y=True), test_size=0.33, random_state=8)"
   ]
  },
  {
   "source": [
    "## Train some ML models"
   ],
   "cell_type": "markdown",
   "metadata": {}
  },
  {
   "cell_type": "code",
   "execution_count": 3,
   "metadata": {},
   "outputs": [
    {
     "output_type": "execute_result",
     "data": {
      "text/plain": [
       "0.6921420412834411"
      ]
     },
     "metadata": {},
     "execution_count": 3
    }
   ],
   "source": [
    "# Simple linear regression model\n",
    "from sklearn.linear_model import LinearRegression\n",
    "\n",
    "simple_est = LinearRegression()\n",
    "simple_est.fit(X_train, y_train)\n",
    "simple_est.score(X_test, y_test)"
   ]
  },
  {
   "cell_type": "code",
   "execution_count": 4,
   "metadata": {},
   "outputs": [
    {
     "output_type": "execute_result",
     "data": {
      "text/plain": [
       "0.8493915796629993"
      ]
     },
     "metadata": {},
     "execution_count": 4
    }
   ],
   "source": [
    "# Boosting ensemble model\n",
    "from sklearn.ensemble import GradientBoostingRegressor\n",
    "\n",
    "boosting_est = GradientBoostingRegressor()\n",
    "boosting_est.fit(X_train, y_train)\n",
    "boosting_est.score(X_test, y_test)"
   ]
  },
  {
   "cell_type": "code",
   "execution_count": 5,
   "metadata": {},
   "outputs": [
    {
     "output_type": "execute_result",
     "data": {
      "text/plain": [
       "0.8804546279217711"
      ]
     },
     "metadata": {},
     "execution_count": 5
    }
   ],
   "source": [
    "# Bagging ensemble model\n",
    "from sklearn.ensemble import ExtraTreesRegressor\n",
    "\n",
    "bagging_est = ExtraTreesRegressor()\n",
    "bagging_est.fit(X_train, y_train)\n",
    "bagging_est.score(X_test, y_test)"
   ]
  },
  {
   "source": [
    "## (Optional) Serialize and save ML models to disk"
   ],
   "cell_type": "markdown",
   "metadata": {}
  },
  {
   "cell_type": "code",
   "execution_count": 6,
   "metadata": {},
   "outputs": [],
   "source": [
    "import pickle\n",
    "\n",
    "for model in (simple_est, boosting_est, bagging_est):\n",
    "    filename = type(model).__name__ + '.pickle'\n",
    "    with open(filename, 'wb') as f:\n",
    "        pickle.dump(model, f)"
   ]
  },
  {
   "source": [
    "## (Optional) Load ML models from disk"
   ],
   "cell_type": "markdown",
   "metadata": {}
  },
  {
   "cell_type": "code",
   "execution_count": 7,
   "metadata": {},
   "outputs": [],
   "source": [
    "import pickle\n",
    "\n",
    "models = []\n",
    "\n",
    "# Assuming same naming convention used in the previous code block\n",
    "for filename in ('LinearRegression.pickle', 'GradientBoostingRegressor.pickle', 'ExtraTreesRegressor.pickle'):\n",
    "    with open(filename, 'rb') as f:\n",
    "        models.append(pickle.load(f))\n",
    "\n",
    "simple_est, boosting_est, bagging_est = models"
   ]
  },
  {
   "source": [
    "## Start a Flask server and tunnel to ngrok to expose externally"
   ],
   "cell_type": "markdown",
   "metadata": {}
  },
  {
   "cell_type": "code",
   "execution_count": 8,
   "metadata": {},
   "outputs": [
    {
     "output_type": "stream",
     "name": "stdout",
     "text": [
      " * Serving Flask app \"__main__\" (lazy loading)\n",
      " * Environment: production\n",
      "   WARNING: This is a development server. Do not use it in a production deployment.\n",
      "   Use a production WSGI server instead.\n",
      " * Debug mode: off\n",
      " * Running on http://127.0.0.1:5000/ (Press CTRL+C to quit)\n",
      " * Running on http://017e51068ca4.ngrok.io\n",
      " * Traffic stats available on http://127.0.0.1:4040\n"
     ]
    }
   ],
   "source": [
    "import numpy as np\n",
    "from flask import Flask, request\n",
    "from flask_ngrok import run_with_ngrok\n",
    "\n",
    "app = Flask(__name__)\n",
    "run_with_ngrok(app)\n",
    "\n",
    "# Default to mean value if no param is provided by user\n",
    "DEFAULT_PARAMS = {\n",
    "    'CRIM': 3.61352,\n",
    "    'ZN': 11.36,\n",
    "    'INDUS': 11.14,\n",
    "    'CHAS': 0.06917,\n",
    "    'NOX': 0.5547,\n",
    "    'RM': 6.285,\n",
    "    'AGE': 68.57,\n",
    "    'DIS': 3.795,\n",
    "    'RAD': 9.549,\n",
    "    'TAX': 408.2,\n",
    "    'PTRATIO': 18.46,\n",
    "    'B': 356.67,\n",
    "    'LSTAT': 12.65,\n",
    "}\n",
    "\n",
    "def fill_params(initial, fill_with):\n",
    "    out = {}\n",
    "    for k in fill_with:\n",
    "        out[k] = initial.get(k, False) or fill_with[k]\n",
    "    return out\n",
    "\n",
    "### Test fill_params\n",
    "# test_input = {'INDUS': 19, 'NOX': 0.8}\n",
    "# test_val = fill_params(test_input, DEFAULT_PARAMS)\n",
    "# print(test_val)\n",
    "\n",
    "def predict_price(model, X):\n",
    "    # Models require data in shape [[x1, x2, x3, ...], [x1, x2, x3, ...], ...]\n",
    "    X = [np.fromiter(X.values(), dtype=np.float64)]\n",
    "    Y = None\n",
    "    if model == 'simple':\n",
    "        Y = simple_est.predict(X)\n",
    "    elif model == 'boosting':\n",
    "        Y = boosting_est.predict(X)\n",
    "    else:\n",
    "        Y = bagging_est.predict(X)\n",
    "    # Models return data in shape [Y1, Y2, Y3, ...]\n",
    "    Y = Y[0]\n",
    "    return f'${Y*1000:,.2f}'\n",
    "\n",
    "### Test predict_price\n",
    "# test_val = {'CRIM': 3.61352, 'ZN': 11.36, 'INDUS': 19, 'CHAS': 0.06917, 'NOX': 0.8, 'RM': 6.285, 'AGE': 68.57, 'DIS': 3.795, 'RAD': 9.549, 'TAX': 408.2, 'PTRATIO': 18.46, 'B': 356.67, 'LSTAT': 12.65}\n",
    "# test_price = predict_price('boosting', test_val)\n",
    "# print(test_price)\n",
    "\n",
    "@app.route('/api/v1/simple-est')\n",
    "def simple_est_endpoint():\n",
    "    return predict_price('simple', fill_params(request.args.to_dict(), DEFAULT_PARAMS))\n",
    "\n",
    "@app.route('/api/v1/boosting-est')\n",
    "def boosting_est_endpoint():\n",
    "    return predict_price('boosting', fill_params(request.args.to_dict(), DEFAULT_PARAMS))\n",
    "\n",
    "@app.route('/api/v1/bagging-est')\n",
    "def bagging_est_endpoint():\n",
    "    return predict_price('bagging', fill_params(request.args.to_dict(), DEFAULT_PARAMS))\n",
    "\n",
    "app.run()"
   ]
  },
  {
   "source": [
    "## Using the endpoints\n",
    "If the code block above ran successfully, you should see some output that looks like this\n",
    "```\n",
    "* Serving Flask app \"__main__\" (lazy loading)\n",
    "* Environment: production\n",
    " WARNING: This is a development server. Do not use it in a production deployment.\n",
    " Use a production WSGI server instead.\n",
    "* Debug mode: off\n",
    "* Running on http://127.0.0.1:5000/ (Press CTRL+C to quit)\n",
    "* Running on http://xxxxxxxxxxxx.ngrok.io\n",
    "* Traffic stats available on http://127.0.0.1:4040\n",
    "```\n",
    "\n",
    "You can now query the `ngrok` URL like a normal REST API to use the ML models. Examples:\n",
    "\n",
    "### Use the `bagging` model to predict the price of a Boston house that has 8 rooms:\n",
    "```\n",
    "http://xxxxxxxxxxxx.ngrok.io/api/v1/bagging-est?RM=8\n",
    "```\n",
    "\n",
    "### Use the `simple` model to predict the price of a Boston house on a tract that's next to the Charles River and has a pupil-teacher ratio of 13:\n",
    "```\n",
    "http://xxxxxxxxxxxx.ngrok.io/api/v1/simple-est?CHAS=1&PTRATIO=13\n",
    "```"
   ],
   "cell_type": "markdown",
   "metadata": {}
  },
  {
   "source": [
    "## API Reference\n",
    "See [this notebook](https://rstudio-pubs-static.s3.amazonaws.com/364346_811c9012a14847428c9b1fc1e956431a.html) for a more detailed explanation of this dataset.\n",
    "\n",
    "### Parameters (same for all 3 endpoints)\n",
    "- `CRIM`: per capita crime rate by town\n",
    "- `ZN`: proportion of residential land zoned for lots over 25,000 sq.ft.\n",
    "- `INDUS`: proportion of non-retail business acres per town\n",
    "- `CHAS`: Charles River dummy variable (= 1 if tract bounds river; 0 otherwise)\n",
    "- `NOX`: nitric oxides concentration (parts per 10 million)\n",
    "- `RM`: average number of rooms per dwelling\n",
    "- `AGE`: proportion of owner-occupied units built prior to 1940\n",
    "- `DIS`: weighted distances to five Boston employment centres\n",
    "- `RAD`: index of accessibility to radial highways\n",
    "- `TAX`: full-value property-tax rate per \\$10,000\n",
    "- `PTRATIO`: pupil-teacher ratio by town\n",
    "- `B`: 1000(Bk - 0.63)^2 where Bk is the proportion of blacks by town\n",
    "- `LSTAT`: % lower status of the population\n",
    "- `MEDV`: Median value of owner-occupied homes in \\$1000's\n",
    "\n",
    "If no input is passed for a specific parameter, the mean of the dataset is used.\n",
    "\n",
    "### Endpoints\n",
    "- GET /api/v1/simple-est\n",
    "- GET /api/v1/boosting-est\n",
    "- GET /api/v1/bagging-est\n",
    "\n",
    "All endpoints return the predicted price of the house.\n"
   ],
   "cell_type": "markdown",
   "metadata": {}
  }
 ]
}