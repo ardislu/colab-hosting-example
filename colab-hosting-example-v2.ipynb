{
 "cells": [
  {
   "cell_type": "markdown",
   "metadata": {},
   "source": [
    "# Colab Hosting Example v2\n",
    "Sample Jupyter notebook demonstrating how to host a ML model for demos. Tested on Colab but reusable anywhere Jupyter notebooks can be ran."
   ]
  },
  {
   "cell_type": "markdown",
   "metadata": {},
   "source": [
    "## Install dependencies"
   ]
  },
  {
   "cell_type": "code",
   "execution_count": null,
   "metadata": {},
   "outputs": [],
   "source": [
    "!pip install numpy scikit-learn flask flask-cors flask-ngrok psutil"
   ]
  },
  {
   "cell_type": "markdown",
   "metadata": {},
   "source": [
    "## Load and split a dataset"
   ]
  },
  {
   "cell_type": "code",
   "execution_count": null,
   "metadata": {},
   "outputs": [],
   "source": [
    "from sklearn.datasets import fetch_california_housing\n",
    "from sklearn.model_selection import train_test_split\n",
    "\n",
    "X_train, X_test, y_train, y_test = train_test_split(*fetch_california_housing(return_X_y=True), test_size=0.33, random_state=8)"
   ]
  },
  {
   "cell_type": "markdown",
   "metadata": {},
   "source": [
    "## Train some ML models"
   ]
  },
  {
   "cell_type": "code",
   "execution_count": null,
   "metadata": {},
   "outputs": [],
   "source": [
    "# Simple linear regression model\n",
    "from sklearn.linear_model import LinearRegression\n",
    "\n",
    "simple_est = LinearRegression()\n",
    "simple_est.fit(X_train, y_train)\n",
    "simple_est.score(X_test, y_test)"
   ]
  },
  {
   "cell_type": "code",
   "execution_count": null,
   "metadata": {},
   "outputs": [],
   "source": [
    "# Boosting ensemble model\n",
    "from sklearn.ensemble import GradientBoostingRegressor\n",
    "\n",
    "boosting_est = GradientBoostingRegressor()\n",
    "boosting_est.fit(X_train, y_train)\n",
    "boosting_est.score(X_test, y_test)"
   ]
  },
  {
   "cell_type": "code",
   "execution_count": null,
   "metadata": {},
   "outputs": [],
   "source": [
    "# Bagging ensemble model\n",
    "from sklearn.ensemble import ExtraTreesRegressor\n",
    "\n",
    "bagging_est = ExtraTreesRegressor()\n",
    "bagging_est.fit(X_train, y_train)\n",
    "bagging_est.score(X_test, y_test)"
   ]
  },
  {
   "cell_type": "markdown",
   "metadata": {},
   "source": [
    "## (Optional) Serialize and save ML models to disk"
   ]
  },
  {
   "cell_type": "code",
   "execution_count": null,
   "metadata": {},
   "outputs": [],
   "source": [
    "import pickle\n",
    "\n",
    "for model in (simple_est, boosting_est, bagging_est):\n",
    "    filename = type(model).__name__ + '.pickle'\n",
    "    with open(filename, 'wb') as f:\n",
    "        pickle.dump(model, f)"
   ]
  },
  {
   "cell_type": "markdown",
   "metadata": {},
   "source": [
    "## (Optional) Load ML models from disk"
   ]
  },
  {
   "cell_type": "code",
   "execution_count": null,
   "metadata": {},
   "outputs": [],
   "source": [
    "import pickle\n",
    "\n",
    "models = []\n",
    "\n",
    "# Assuming same naming convention used in the previous code block\n",
    "for filename in ('LinearRegression.pickle', 'GradientBoostingRegressor.pickle', 'ExtraTreesRegressor.pickle'):\n",
    "    with open(filename, 'rb') as f:\n",
    "        models.append(pickle.load(f))\n",
    "\n",
    "simple_est, boosting_est, bagging_est = models"
   ]
  },
  {
   "cell_type": "markdown",
   "metadata": {},
   "source": [
    "## Delete old `ngrok` processes from previous runs"
   ]
  },
  {
   "cell_type": "code",
   "execution_count": null,
   "metadata": {},
   "outputs": [],
   "source": [
    "from psutil import process_iter\n",
    "\n",
    "for proc in process_iter():\n",
    "    if proc.name() == 'ngrok.exe':\n",
    "        proc.kill()"
   ]
  },
  {
   "cell_type": "markdown",
   "metadata": {},
   "source": [
    "## Start a Flask server and tunnel to ngrok to expose externally"
   ]
  },
  {
   "cell_type": "code",
   "execution_count": null,
   "metadata": {},
   "outputs": [],
   "source": [
    "import numpy as np\n",
    "from flask import Flask, request\n",
    "from flask_cors import CORS\n",
    "from flask_ngrok import run_with_ngrok\n",
    "\n",
    "app = Flask(__name__)\n",
    "CORS(app)\n",
    "run_with_ngrok(app)\n",
    "\n",
    "# Default to mean value if no param is provided by user\n",
    "DEFAULT_PARAMS = {\n",
    "    'CRIM': 3.61352,\n",
    "    'ZN': 11.36,\n",
    "    'INDUS': 11.14,\n",
    "    'CHAS': 0.06917,\n",
    "    'NOX': 0.5547,\n",
    "    'RM': 6.285,\n",
    "    'AGE': 68.57,\n",
    "    'DIS': 3.795,\n",
    "    'RAD': 9.549,\n",
    "    'TAX': 408.2,\n",
    "    'PTRATIO': 18.46,\n",
    "    'B': 356.67,\n",
    "    'LSTAT': 12.65,\n",
    "}\n",
    "\n",
    "# Response JSON if input parameters are invalid\n",
    "INVALID_PARAM_RESP = {\n",
    "    'status': 'fail',\n",
    "    'data': {\n",
    "        'parameters': 'One or more of the input parameters was invalid. Make sure all parameters are numbers.'\n",
    "    }\n",
    "}\n",
    "\n",
    "def fill_params(initial, fill_with):\n",
    "    out = {}\n",
    "    for k in fill_with:\n",
    "        out[k] = initial.get(k, False) or fill_with[k]\n",
    "    return out\n",
    "\n",
    "### Test fill_params\n",
    "# test_input = {'INDUS': 19, 'NOX': 0.8}\n",
    "# test_val = fill_params(test_input, DEFAULT_PARAMS)\n",
    "# print(test_val)\n",
    "\n",
    "def predict_price(model, X):\n",
    "    # Models require data in shape [[x1, x2, x3, ...], [x1, x2, x3, ...], ...]\n",
    "    try:\n",
    "        X = [np.fromiter(X.values(), dtype=np.float64)]\n",
    "    except ValueError:\n",
    "        raise ValueError\n",
    "    Y = None\n",
    "    if model == 'simple':\n",
    "        Y = simple_est.predict(X)\n",
    "    elif model == 'boosting':\n",
    "        Y = boosting_est.predict(X)\n",
    "    else:\n",
    "        Y = bagging_est.predict(X)\n",
    "    # Models return data in shape [Y1, Y2, Y3, ...]\n",
    "    Y = Y[0]\n",
    "    return Y\n",
    "\n",
    "### Test predict_price\n",
    "# test_val = {'CRIM': 3.61352, 'ZN': 11.36, 'INDUS': 19, 'CHAS': 0.06917, 'NOX': 0.8, 'RM': 6.285, 'AGE': 68.57, 'DIS': 3.795, 'RAD': 9.549, 'TAX': 408.2, 'PTRATIO': 18.46, 'B': 356.67, 'LSTAT': 12.65}\n",
    "# test_price = predict_price('boosting', test_val)\n",
    "# print(test_price)\n",
    "\n",
    "@app.route('/api/v1/simple-est')\n",
    "def simple_est_endpoint():\n",
    "    resp = None\n",
    "    params = fill_params(request.args.to_dict(), DEFAULT_PARAMS)\n",
    "    try:\n",
    "        resp = {\n",
    "            'status': 'success',\n",
    "            'data': {\n",
    "                'model': 'LinearRegression',\n",
    "                'parameters': params,\n",
    "                'price': predict_price('simple', params)\n",
    "            }\n",
    "        }\n",
    "    except ValueError:\n",
    "        return INVALID_PARAM_RESP, 400\n",
    "    return resp\n",
    "\n",
    "@app.route('/api/v1/boosting-est')\n",
    "def boosting_est_endpoint():\n",
    "    resp = None\n",
    "    params = fill_params(request.args.to_dict(), DEFAULT_PARAMS)\n",
    "    try:\n",
    "        resp = {\n",
    "            'status': 'success',\n",
    "            'data': {\n",
    "                'model': 'GradientBoostingRegressor',\n",
    "                'parameters': params,\n",
    "                'price': predict_price('boosting', params)\n",
    "            }\n",
    "        }\n",
    "    except ValueError:\n",
    "        return INVALID_PARAM_RESP, 400\n",
    "    return resp\n",
    "\n",
    "@app.route('/api/v1/bagging-est')\n",
    "def bagging_est_endpoint():\n",
    "    resp = None\n",
    "    params = fill_params(request.args.to_dict(), DEFAULT_PARAMS)\n",
    "    try:\n",
    "        resp = {\n",
    "            'status': 'success',\n",
    "            'data': {\n",
    "                'model': 'ExtraTreesRegressor',\n",
    "                'parameters': params,\n",
    "                'price': predict_price('bagging', params)\n",
    "            }\n",
    "        }\n",
    "    except ValueError:\n",
    "        return INVALID_PARAM_RESP, 400\n",
    "    return resp\n",
    "\n",
    "app.run()"
   ]
  },
  {
   "cell_type": "markdown",
   "metadata": {},
   "source": [
    "## Using the endpoints\n",
    "If the code block above ran successfully, you should see some output that looks like this\n",
    "```\n",
    "* Serving Flask app \"__main__\" (lazy loading)\n",
    "* Environment: production\n",
    " WARNING: This is a development server. Do not use it in a production deployment.\n",
    " Use a production WSGI server instead.\n",
    "* Debug mode: off\n",
    "* Running on http://127.0.0.1:5000/ (Press CTRL+C to quit)\n",
    "* Running on http://xxxxxxxxxxxx.ngrok.io\n",
    "* Traffic stats available on http://127.0.0.1:4040\n",
    "```\n",
    "\n",
    "You can now query the `ngrok` URL like a normal REST API to use the ML models. Examples:\n",
    "\n",
    "### Use the `bagging` model to predict the price of a Boston house that has 8 rooms:\n",
    "```\n",
    "http://xxxxxxxxxxxx.ngrok.io/api/v1/bagging-est?RM=8\n",
    "```\n",
    "\n",
    "### Use the `simple` model to predict the price of a Boston house on a tract that's next to the Charles River and has a pupil-teacher ratio of 13:\n",
    "```\n",
    "http://xxxxxxxxxxxx.ngrok.io/api/v1/simple-est?CHAS=1&PTRATIO=13\n",
    "```"
   ]
  },
  {
   "cell_type": "markdown",
   "metadata": {},
   "source": [
    "## API Reference\n",
    "See [this notebook](https://rstudio-pubs-static.s3.amazonaws.com/364346_811c9012a14847428c9b1fc1e956431a.html) for a more detailed explanation of this dataset.\n",
    "\n",
    "### Parameters (same for all 3 endpoints)\n",
    "- `CRIM`: per capita crime rate by town\n",
    "- `ZN`: proportion of residential land zoned for lots over 25,000 sq.ft.\n",
    "- `INDUS`: proportion of non-retail business acres per town\n",
    "- `CHAS`: Charles River dummy variable (= 1 if tract bounds river; 0 otherwise)\n",
    "- `NOX`: nitric oxides concentration (parts per 10 million)\n",
    "- `RM`: average number of rooms per dwelling\n",
    "- `AGE`: proportion of owner-occupied units built prior to 1940\n",
    "- `DIS`: weighted distances to five Boston employment centres\n",
    "- `RAD`: index of accessibility to radial highways\n",
    "- `TAX`: full-value property-tax rate per \\$10,000\n",
    "- `PTRATIO`: pupil-teacher ratio by town\n",
    "- `B`: 1000(Bk - 0.63)^2 where Bk is the proportion of blacks by town\n",
    "- `LSTAT`: % lower status of the population\n",
    "- `MEDV`: Median value of owner-occupied homes in \\$1000's\n",
    "\n",
    "If no input is passed for a specific parameter, the mean of the dataset is used.\n",
    "\n",
    "### Endpoints\n",
    "- GET /api/v1/simple-est\n",
    "- GET /api/v1/boosting-est\n",
    "- GET /api/v1/bagging-est\n",
    "\n",
    "All endpoints take the same parameters and return responses in the same shape.\n",
    "\n",
    "### Example Responses\n",
    "\n",
    "#### GET /api/v1/simple-est?CHAS=1&PTRATIO=13\n",
    "HTTP 200\n",
    "```json\n",
    "{\n",
    "    \"data\": {\n",
    "        \"model\": \"LinearRegression\",\n",
    "        \"parameters\": {\"AGE\":68.57,\"B\":356.67,\"CHAS\":\"1\",\"CRIM\":3.61352,\"DIS\":3.795,\"INDUS\":11.14,\"LSTAT\":12.65,\"NOX\":0.5547,\"PTRATIO\":\"13\",\"RAD\":9.549,\"RM\":6.285,\"TAX\":408.2,\"ZN\":11.36},\n",
    "        \"price\":30.373884377972654\n",
    "    },\n",
    "    \"status\":\"success\"\n",
    "}\n",
    "```\n",
    "\n",
    "#### GET /api/v1/simple-est?AGE=NOTANUMBER\n",
    "HTTP 400\n",
    "```json\n",
    "{\n",
    "    \"data\": {\n",
    "        \"parameters\": \"One or more of the input parameters was invalid. Make sure all parameters are numbers.\"\n",
    "    },\n",
    "    \"status\":\"fail\"\n",
    "}\n",
    "```"
   ]
  }
 ],
 "metadata": {
  "kernelspec": {
   "display_name": "Python 3",
   "language": "python",
   "name": "python3"
  },
  "language_info": {
   "codemirror_mode": {
    "name": "ipython",
    "version": 3
   },
   "file_extension": ".py",
   "mimetype": "text/x-python",
   "name": "python",
   "nbconvert_exporter": "python",
   "pygments_lexer": "ipython3",
   "version": "3.9.1-final"
  },
  "orig_nbformat": 2
 },
 "nbformat": 4,
 "nbformat_minor": 2
}
